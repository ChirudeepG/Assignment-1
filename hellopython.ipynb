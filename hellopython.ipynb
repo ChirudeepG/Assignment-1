{
  "nbformat": 4,
  "nbformat_minor": 0,
  "metadata": {
    "colab": {
      "provenance": [],
      "authorship_tag": "ABX9TyOi3L8fJXNskeYCBlkK5Myv",
      "include_colab_link": true
    },
    "kernelspec": {
      "name": "python3",
      "display_name": "Python 3"
    },
    "language_info": {
      "name": "python"
    }
  },
  "cells": [
    {
      "cell_type": "markdown",
      "metadata": {
        "id": "view-in-github",
        "colab_type": "text"
      },
      "source": [
        "<a href=\"https://colab.research.google.com/github/ChirudeepG/Assignment-1/blob/master/hellopython.ipynb\" target=\"_parent\"><img src=\"https://colab.research.google.com/assets/colab-badge.svg\" alt=\"Open In Colab\"/></a>"
      ]
    },
    {
      "cell_type": "code",
      "source": [
        "import random\n",
        "import sys\n",
        "import os\n",
        "\n",
        "print(\"hello world\")\n",
        "\n",
        "name = \"derek\"\n",
        "print(name)\n"
      ],
      "metadata": {
        "colab": {
          "base_uri": "https://localhost:8080/"
        },
        "id": "f47FfxlsRlhO",
        "outputId": "42cb56b0-bf0f-4beb-a837-27f5c5818017"
      },
      "execution_count": null,
      "outputs": [
        {
          "output_type": "stream",
          "name": "stdout",
          "text": [
            "hello world\n",
            "derek\n"
          ]
        }
      ]
    },
    {
      "cell_type": "code",
      "source": [
        "print(\"5+2=\", 5+2)\n",
        "print(\"5-2=\", 5-2)\n",
        "print(\"5*2=\", 5*2)\n",
        "print(\"5/2=\", 5/2)\n",
        "print(\"5%2=\", 5%2)\n",
        "print(\"5**2=\", 5**2)\n",
        "print(\"5//2=\", 5//2)"
      ],
      "metadata": {
        "colab": {
          "base_uri": "https://localhost:8080/"
        },
        "id": "nMQE4SjY4HpH",
        "outputId": "09606fd5-0c74-44d4-dd2d-c14cb3d7d24c"
      },
      "execution_count": null,
      "outputs": [
        {
          "output_type": "stream",
          "name": "stdout",
          "text": [
            "5+2= 7\n",
            "5-2= 3\n",
            "5*2= 10\n",
            "5/2= 2.5\n",
            "5%2= 1\n",
            "5**2= 25\n",
            "5//2= 2\n"
          ]
        }
      ]
    },
    {
      "cell_type": "code",
      "source": [
        "print(\"1+2-3*2=\",1+2-3*2)\n",
        "print(\"(1+2-3)*2=\",(1+2-3)*2)"
      ],
      "metadata": {
        "colab": {
          "base_uri": "https://localhost:8080/"
        },
        "id": "yE33Khph4xbe",
        "outputId": "d2ae4622-25bb-46cb-baff-e46b73a86913"
      },
      "execution_count": null,
      "outputs": [
        {
          "output_type": "stream",
          "name": "stdout",
          "text": [
            "1+2-3*2= -3\n",
            "(1+2-3)*2= 0\n"
          ]
        }
      ]
    },
    {
      "cell_type": "code",
      "source": [
        "quote=\"Always remember that you are unique\"\n",
        "\n",
        "multiline_quote=''' just\n",
        "like everyone else'''\n",
        "\n",
        "print(\"%s %s %s\" % ('I like the quote',quote,multiline_quote))\n",
        "print(\"I dont like \", end=\"\")\n",
        "print(\"newlines\")"
      ],
      "metadata": {
        "colab": {
          "base_uri": "https://localhost:8080/"
        },
        "id": "76TRGEaTR2ht",
        "outputId": "6660e6bb-0fc0-4508-ebd0-be08df46a343"
      },
      "execution_count": null,
      "outputs": [
        {
          "output_type": "stream",
          "name": "stdout",
          "text": [
            "I like the quote Always remember that you are unique  just\n",
            "like everyone else\n",
            "I dont like newlines\n"
          ]
        }
      ]
    },
    {
      "cell_type": "markdown",
      "source": [],
      "metadata": {
        "id": "vlAVO_p4SJ7u"
      }
    },
    {
      "cell_type": "code",
      "source": [
        "grocery_list=['juice','tomato','potato','bananas']\n",
        "print('first item is', grocery_list[0])\n",
        "\n",
        "grocery_list[0]=\"green juice\"\n",
        "print('first item is',grocery_list[0])\n",
        "\n",
        "print(grocery_list[1:3])\n",
        "\n",
        "other_events=['wash car','pickup kids','cash check']\n",
        "to_do_list=[other_events,grocery_list]\n",
        "print(to_do_list)\n",
        "print((to_do_list[1][1]))\n",
        "grocery_list.append('onions')\n",
        "print(to_do_list)\n",
        "\n",
        "grocery_list.insert(1, \"pickle\")\n",
        "grocery_list.remove(\"pickle\")\n",
        "grocery_list.sort()\n",
        "grocery_list.reverse()\n",
        "del grocery_list[4]\n",
        "print(to_do_list)\n",
        "\n",
        "to_do_list2=other_events+grocery_list\n",
        "\n",
        "print(len(to_do_list2))\n",
        "print(max(to_do_list2))\n",
        "print(min(to_do_list2))\n",
        "\n"
      ],
      "metadata": {
        "colab": {
          "base_uri": "https://localhost:8080/"
        },
        "id": "LNXTnutW7Htm",
        "outputId": "5d10a682-7983-417b-faf6-0ff19c3a5d51"
      },
      "execution_count": null,
      "outputs": [
        {
          "output_type": "stream",
          "name": "stdout",
          "text": [
            "first item is juice\n",
            "first item is green juice\n",
            "['tomato', 'potato']\n",
            "[['wash car', 'pickup kids', 'cash check'], ['green juice', 'tomato', 'potato', 'bananas']]\n",
            "tomato\n",
            "[['wash car', 'pickup kids', 'cash check'], ['green juice', 'tomato', 'potato', 'bananas', 'onions']]\n",
            "[['wash car', 'pickup kids', 'cash check'], ['tomato', 'potato', 'onions', 'green juice']]\n",
            "7\n",
            "wash car\n",
            "cash check\n"
          ]
        }
      ]
    },
    {
      "cell_type": "code",
      "source": [
        "pi_tuple=(3,1,4,1,5,9)\n",
        "new_tuple=list(pi_tuple)\n",
        "new_list=tuple(new_tuple)\n",
        "\n",
        "print(len(pi_tuple))\n",
        "print(min(pi_tuple))\n",
        "print(max(pi_tuple))"
      ],
      "metadata": {
        "colab": {
          "base_uri": "https://localhost:8080/"
        },
        "id": "bmVZ0ryP-Nk6",
        "outputId": "e03205a8-ef73-46d8-b8d3-566b4fe813ad"
      },
      "execution_count": null,
      "outputs": [
        {
          "output_type": "stream",
          "name": "stdout",
          "text": [
            "6\n",
            "1\n",
            "9\n"
          ]
        }
      ]
    },
    {
      "cell_type": "code",
      "source": [
        "super_villains={'fiddler':'issac bowin','cap':'lenord','wizard':'mark'}\n",
        "print(super_villains['cap'])\n",
        "del super_villains['fiddler']\n",
        "super_villains['wizard']='jack'\n",
        "print(len(super_villains))\n",
        "print(super_villains.get(\"wizard\"))"
      ],
      "metadata": {
        "colab": {
          "base_uri": "https://localhost:8080/"
        },
        "id": "fN9WtMB88D4E",
        "outputId": "dfa7c7bd-e1cf-4a46-b52c-af0057e2fe17"
      },
      "execution_count": null,
      "outputs": [
        {
          "output_type": "stream",
          "name": "stdout",
          "text": [
            "lenord\n",
            "2\n",
            "jack\n"
          ]
        }
      ]
    },
    {
      "cell_type": "code",
      "source": [
        "age=21\n",
        "if age>16:\n",
        "  print('you are old enough to drive')\n",
        "else:\n",
        "  print('you are not old enough to drive')\n",
        "\n",
        "if age>=21:\n",
        "  print('you are old to drive trailor')\n",
        "elif age>=16:\n",
        "  print('you are old enough to drive car')\n",
        "else:\n",
        "  print('you are not old enough to drive')\n"
      ],
      "metadata": {
        "colab": {
          "base_uri": "https://localhost:8080/"
        },
        "id": "r1-PAdW6A9Bk",
        "outputId": "abb5eca5-a190-4922-ad65-e56dc8e3cc27"
      },
      "execution_count": null,
      "outputs": [
        {
          "output_type": "stream",
          "name": "stdout",
          "text": [
            "you are old enough to drive\n",
            "you are old to drive trailor\n"
          ]
        }
      ]
    },
    {
      "cell_type": "code",
      "source": [
        "for x in range(0,10):\n",
        "  print(x,'',end='')\n",
        "print('\\n')\n",
        "\n",
        "grocery_list=['juice','tomato','potato','bananas']\n",
        "\n",
        "for y in grocery_list:\n",
        "  print(y)\n",
        "\n",
        "for x in [2,4,6,8,10]:\n",
        "  print(x)\n",
        "\n",
        "num_list = [[1,2,3],[10,20,30],[100,200,300]]\n",
        "\n",
        "for x in range(0,3):\n",
        "  for y in range(0,3):\n",
        "    print(num_list[x][y])"
      ],
      "metadata": {
        "colab": {
          "base_uri": "https://localhost:8080/"
        },
        "id": "D6tOz2SLCs6I",
        "outputId": "0504b36d-bb56-4ded-8536-c11a6327d01d"
      },
      "execution_count": null,
      "outputs": [
        {
          "output_type": "stream",
          "name": "stdout",
          "text": [
            "0 1 2 3 4 5 6 7 8 9 \n",
            "\n",
            "juice\n",
            "tomato\n",
            "potato\n",
            "bananas\n",
            "2\n",
            "4\n",
            "6\n",
            "8\n",
            "10\n",
            "1\n",
            "2\n",
            "3\n",
            "10\n",
            "20\n",
            "30\n",
            "100\n",
            "200\n",
            "300\n"
          ]
        }
      ]
    },
    {
      "cell_type": "code",
      "source": [
        "random_num=random.randrange(0,100)\n",
        "\n",
        "while(random_num !=15):\n",
        "  print(random_num)\n",
        "  random_num=random.randrange(0,100)\n",
        "\n",
        "i=0;\n",
        "\n",
        "while(i<=20):\n",
        "    if(i%2==0):\n",
        "        print(i)\n",
        "    elif(i==9):\n",
        "      break\n",
        "    else:\n",
        "      i +=1\n",
        "      continue\n",
        "    i +=1\n",
        "\n"
      ],
      "metadata": {
        "colab": {
          "base_uri": "https://localhost:8080/"
        },
        "id": "qvlgQ3cMECEr",
        "outputId": "a2d5a029-80d4-42aa-a9a6-e3dcbe4c9713"
      },
      "execution_count": null,
      "outputs": [
        {
          "output_type": "stream",
          "name": "stdout",
          "text": [
            "95\n",
            "84\n",
            "55\n",
            "13\n",
            "55\n",
            "29\n",
            "16\n",
            "82\n",
            "16\n",
            "48\n",
            "55\n",
            "69\n",
            "30\n",
            "11\n",
            "96\n",
            "36\n",
            "96\n",
            "50\n",
            "40\n",
            "31\n",
            "37\n",
            "48\n",
            "95\n",
            "69\n",
            "44\n",
            "25\n",
            "40\n",
            "83\n",
            "0\n",
            "2\n",
            "4\n",
            "6\n",
            "8\n"
          ]
        }
      ]
    },
    {
      "cell_type": "code",
      "source": [
        "print(\"what is your name\")\n",
        "name=sys.stdin.readline()\n",
        "print('hello',name)"
      ],
      "metadata": {
        "colab": {
          "base_uri": "https://localhost:8080/"
        },
        "id": "N0G1ZOvCFSlT",
        "outputId": "c785efb4-6fdc-4dd6-82cc-25227b8e5a72"
      },
      "execution_count": null,
      "outputs": [
        {
          "output_type": "stream",
          "name": "stdout",
          "text": [
            "what is your name\n",
            "hello \n"
          ]
        }
      ]
    },
    {
      "cell_type": "code",
      "source": [
        "long_string=\"i will catch u if u fall on the floor\"\n",
        "print(long_string[0:4])\n",
        "print(long_string[-5:])\n",
        "print(long_string[:-5])\n",
        "print(long_string[:4] + \"be there\")\n",
        "print(\"%c is my % s letter and number %d number is %.5f\" %('X', 'favorite',1, .14))\n",
        "\n",
        "print(long_string.capitalize())\n",
        "print(long_string.find(\"floor\"))\n",
        "print(long_string.isalpha())\n",
        "print(long_string.isalnum())\n",
        "print(len(long_string))\n",
        "print(long_string.replace(\"floor\",\"ground\"))\n",
        "print(long_string.strip())\n",
        "quote_list= long_string.split(\" \")\n",
        "print(quote_list)"
      ],
      "metadata": {
        "colab": {
          "base_uri": "https://localhost:8080/"
        },
        "id": "0mHFngD-EBIj",
        "outputId": "efee634c-5de0-4d34-cd57-0ecba47a1870"
      },
      "execution_count": null,
      "outputs": [
        {
          "output_type": "stream",
          "name": "stdout",
          "text": [
            "i wi\n",
            "floor\n",
            "i will catch u if u fall on the \n",
            "i wibe there\n",
            "X is my favorite letter and number 1 number is 0.14000\n",
            "I will catch u if u fall on the floor\n",
            "32\n",
            "False\n",
            "False\n",
            "37\n",
            "i will catch u if u fall on the ground\n",
            "i will catch u if u fall on the floor\n",
            "['i', 'will', 'catch', 'u', 'if', 'u', 'fall', 'on', 'the', 'floor']\n"
          ]
        }
      ]
    },
    {
      "cell_type": "code",
      "source": [
        "test_file=open(\"test.txt\",\"wb\")\n",
        "print(test_file.mode)\n",
        "print(test_file.name)\n",
        "test_file.write(bytes(\"write me to the file \\n\", 'UTF-8'))\n",
        "test_file.close()\n",
        "test_file=open(\"test.txt\",\"r+\")\n",
        "text_in_file=test_file.read()\n",
        "print(text_in_file)\n",
        "os.remove(\"test.txt\")"
      ],
      "metadata": {
        "colab": {
          "base_uri": "https://localhost:8080/"
        },
        "id": "SwZZwBhzI7aK",
        "outputId": "e2c9f2c9-6f76-4e38-ce35-170c405c44d1"
      },
      "execution_count": null,
      "outputs": [
        {
          "output_type": "stream",
          "name": "stdout",
          "text": [
            "wb\n",
            "test.txt\n",
            "write me to the file \n",
            "\n"
          ]
        }
      ]
    },
    {
      "cell_type": "code",
      "source": [
        "class Animal:\n",
        "  __name = \"\"\n",
        "  __height = 0\n",
        "  __weight = 0\n",
        "  __sound = 0\n",
        "\n",
        "  def __init__(self, name, height, weight, sound):\n",
        "    self.__name = name\n",
        "    self.__height = height\n",
        "    self.__weight = weight\n",
        "    self.__sound = sound\n",
        "\n",
        "  def set_name(self, name):\n",
        "    self.__name = name\n",
        "  \n",
        "  def set_height(self,height):\n",
        "    self.__height = height\n",
        "\n",
        "  def set_weight(self,weight):\n",
        "    self.__weight = weight\n",
        "\n",
        "  def set_sound(self,sound):\n",
        "    self.__sound = sound\n",
        "\n",
        "  def get_name(self):\n",
        "    return self. __name\n",
        "\n",
        "  def get_height(self):\n",
        "    return self. __height\n",
        "\n",
        "  def get_weight(self):\n",
        "    return self. __weight\n",
        "\n",
        "  def get_sound(self):\n",
        "    return self. __sound\n",
        "\n",
        "  def get_type(self):\n",
        "    print(\"Animal\")\n",
        "    \n",
        "  def toString(self):\n",
        "    return \"{} is {} cm tall and {} kilograms and say {}\".format(self.__name,self.__height,self.__weight,self.__sound)\n",
        "\n",
        "cat = Animal('Whiskers', 33, 10, 'Meow')\n",
        "\n",
        "print(cat.toString())\n",
        "\n",
        "\n",
        "class Dog(Animal):\n",
        "  __owner = \"\"\n",
        "\n",
        "  def __init__(self, name, height, weight, sound, owner):\n",
        "    self.__owner = owner\n",
        "    super(Dog, self).__init__(name, height, weight, sound)\n",
        "\n",
        "  def set_owner(self, owner):\n",
        "    self.__owner = owner\n",
        "\n",
        "  def get_owner(self):\n",
        "    return self.__owner\n",
        "\n",
        "  def get_type(self):\n",
        "    print(\"Dog\")\n",
        "\n",
        "  def toString(self):\n",
        "    return \"{} is {} cm tall and {} kilograms and say {} and his owner is {}\".format(self.get_name(), self.get_height(), self.get_weight(), self.get_sound(), self.__owner)\n",
        "\n",
        "\n",
        "  def multiple_sounds(self, how_many=None):\n",
        "    if how_many is None:\n",
        "      print(self.get_sound())\n",
        "    else:\n",
        "      print(self.get_sound() * how_many)\n",
        "\n",
        "spot = Dog(\"Spot\", 53 ,27 , \"ruff\", \"John\")\n",
        "\n",
        "print(spot.toString())\n",
        "\n",
        "class AnimalTesting:\n",
        "  def get_type(self, animal):\n",
        "    animal.get_type()\n",
        "\n",
        "test_animals = AnimalTesting()\n",
        "\n",
        "test_animals.get_type(cat)\n",
        "test_animals.get_type(spot)"
      ],
      "metadata": {
        "colab": {
          "base_uri": "https://localhost:8080/"
        },
        "id": "mFCMsm6rHph3",
        "outputId": "32efd016-0e03-4142-a628-35091c6036fc"
      },
      "execution_count": null,
      "outputs": [
        {
          "output_type": "stream",
          "name": "stdout",
          "text": [
            "Whiskers is 33 cm tall and 10 kilograms and say Meow\n",
            "Spot is 53 cm tall and 27 kilograms and say ruff and his owner is John\n",
            "Animal\n",
            "Dog\n"
          ]
        }
      ]
    },
    {
      "cell_type": "markdown",
      "source": [
        "Some other examples\n"
      ],
      "metadata": {
        "id": "sQwipcGljldH"
      }
    },
    {
      "cell_type": "code",
      "source": [
        "def merge_sort(arr):\n",
        "    if len(arr) > 1:\n",
        "        mid = len(arr) // 2\n",
        "        left = arr[:mid]\n",
        "        right = arr[mid:]\n",
        "        merge_sort(left)\n",
        "        merge_sort(right)\n",
        "        i = j = k = 0\n",
        "        while i < len(left) and j < len(right):\n",
        "            if left[i] < right[j]:\n",
        "                arr[k] = left[i]\n",
        "                i += 1\n",
        "            else:\n",
        "                arr[k] = right[j]\n",
        "                j += 1\n",
        "            k += 1\n",
        "        while i < len(left):\n",
        "            arr[k] = left[i]\n",
        "            i += 1\n",
        "            k += 1\n",
        "        while j < len(right):\n",
        "            arr[k] = right[j]\n",
        "            j += 1\n",
        "            k += 1\n",
        "    return arr\n",
        "arr=[1,2,3,4,5,6,7,8,27,272,9,10]\n",
        "print(merge_sort(arr))"
      ],
      "metadata": {
        "colab": {
          "base_uri": "https://localhost:8080/"
        },
        "id": "w30HscWCE7TO",
        "outputId": "57e1cd70-508e-4c77-d250-86b31f9bf8ed"
      },
      "execution_count": null,
      "outputs": [
        {
          "output_type": "stream",
          "name": "stdout",
          "text": [
            "[1, 2, 3, 4, 5, 6, 7, 8, 9, 10, 27, 272]\n"
          ]
        }
      ]
    },
    {
      "cell_type": "code",
      "source": [
        "def binary_search(arr, x):\n",
        "    low = 0\n",
        "    high = len(arr) - 1\n",
        "    mid = 0\n",
        "    while low <= high:\n",
        "        mid = (high + low) // 2\n",
        "        if arr[mid] < x:\n",
        "            low = mid + 1\n",
        "        elif arr[mid] > x:\n",
        "            high = mid - 1\n",
        "        else:\n",
        "            return mid\n",
        "    return -1\n",
        "arr=[1,2,3,4,5,6,7,8,9,10]\n",
        "x = 10\n",
        "result = binary_search(arr, x)\n",
        "if result != -1:\n",
        "    print(\"Element is present at index\", str(result))\n",
        "else:\n",
        "    print(\"Element is not present in array\")"
      ],
      "metadata": {
        "colab": {
          "base_uri": "https://localhost:8080/"
        },
        "id": "84fvxJJGFKcs",
        "outputId": "35b2744a-9b7f-4361-b5c3-79f645ca6af8"
      },
      "execution_count": null,
      "outputs": [
        {
          "output_type": "stream",
          "name": "stdout",
          "text": [
            "Element is present at index 9\n"
          ]
        }
      ]
    },
    {
      "cell_type": "code",
      "source": [
        "def fibonacci(n):\n",
        "    if n <= 1:\n",
        "        return n\n",
        "    else:\n",
        "        return(fibonacci(n-1) + fibonacci(n-2))\n",
        "n = 10\n",
        "if n <= 0:\n",
        "    print(\"Plese enter a positive integer\")\n",
        "else:\n",
        "    print(\"Fibonacci sequence:\")\n",
        "    for i in range(n):\n",
        "        print(fibonacci(i))"
      ],
      "metadata": {
        "colab": {
          "base_uri": "https://localhost:8080/"
        },
        "id": "YxZQJ5c-FOnS",
        "outputId": "c8bcce5b-f9aa-4dbe-874b-420fed1d4cce"
      },
      "execution_count": null,
      "outputs": [
        {
          "output_type": "stream",
          "name": "stdout",
          "text": [
            "Fibonacci sequence:\n",
            "0\n",
            "1\n",
            "1\n",
            "2\n",
            "3\n",
            "5\n",
            "8\n",
            "13\n",
            "21\n",
            "34\n"
          ]
        }
      ]
    },
    {
      "cell_type": "code",
      "source": [
        "def armstrong(n):\n",
        "    sum = 0\n",
        "    temp = n\n",
        "    while temp > 0:\n",
        "        digit = temp % 10\n",
        "        sum += digit ** 3\n",
        "        temp //= 10\n",
        "    if n == sum:\n",
        "        return True\n",
        "    else:\n",
        "        return False    \n",
        "n = 2671\n",
        "print(armstrong(n))\n",
        "\n",
        "#sum of two numbers is equal to third number in array\n",
        "def sum_of_two(arr):\n",
        "    for i in range(len(arr)):\n",
        "        for j in range(i+1,len(arr)):\n",
        "            for k in range(j+1,len(arr)):\n",
        "                if arr[i]+arr[j]==arr[k]:\n",
        "                    return True\n",
        "    return False\n",
        "arr=[1,2,3,4,5,6,7,8,9,10]\n",
        "print(sum_of_two(arr))"
      ],
      "metadata": {
        "colab": {
          "base_uri": "https://localhost:8080/"
        },
        "id": "52Ocr55PFTgV",
        "outputId": "2b3f0c06-86b2-42d2-f545-b50ddedd1fdf"
      },
      "execution_count": null,
      "outputs": [
        {
          "output_type": "stream",
          "name": "stdout",
          "text": [
            "False\n",
            "True\n"
          ]
        }
      ]
    },
    {
      "cell_type": "code",
      "source": [
        "def reverse_string(string):\n",
        "    return string[::-1]\n",
        "string=\"Geeksforgeeks\"\n",
        "print(reverse_string(string))"
      ],
      "metadata": {
        "colab": {
          "base_uri": "https://localhost:8080/"
        },
        "id": "YWo08IVYFbOB",
        "outputId": "93ab18e6-2b66-41ba-e892-6eb51287654c"
      },
      "execution_count": null,
      "outputs": [
        {
          "output_type": "stream",
          "name": "stdout",
          "text": [
            "skeegrofskeeG\n"
          ]
        }
      ]
    },
    {
      "cell_type": "code",
      "source": [
        "def anagram(string1,string2):\n",
        "    if sorted(string1)==sorted(string2):\n",
        "        return True\n",
        "    else:\n",
        "        return False\n",
        "string1=\"listen\"\n",
        "string2=\"silent\"\n",
        "print(anagram(string1,string2))\n"
      ],
      "metadata": {
        "id": "xQRKVABCFedX",
        "outputId": "c3d6248e-f86f-46e7-d94f-ec19a212ae7e",
        "colab": {
          "base_uri": "https://localhost:8080/"
        }
      },
      "execution_count": null,
      "outputs": [
        {
          "output_type": "stream",
          "name": "stdout",
          "text": [
            "True\n"
          ]
        }
      ]
    },
    {
      "cell_type": "markdown",
      "source": [],
      "metadata": {
        "id": "orTX9kXJSKWS"
      }
    }
  ]
}